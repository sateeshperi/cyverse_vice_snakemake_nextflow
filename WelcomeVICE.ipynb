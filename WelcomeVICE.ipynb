{
 "cells": [
  {
   "cell_type": "markdown",
   "metadata": {},
   "source": [
    "# CyVerse VICE"
   ]
  },
  {
   "cell_type": "markdown",
   "metadata": {},
   "source": [
    "https://learning.cyverse.org/projects/vice/en/latest/index.html"
   ]
  },
  {
   "cell_type": "markdown",
   "metadata": {},
   "source": [
    "VICE which stands for Visual Interactive Computing Environment is a component of CyVerse’s data science workbench, called the Discovery Environment (DE). VICE allows users to launch web-based applications from the DE. Once an application is launched, users can access the VICE app through a linked URL, they can bring their data from the CyVerse Data Store into the application, or pull data from anywhere on the web using standard requests (curl wget git)."
   ]
  },
  {
   "cell_type": "markdown",
   "metadata": {},
   "source": []
  },
  {
   "cell_type": "markdown",
   "metadata": {},
   "source": [
    "VICE allows exploratory bioinformatic and geoinformatic data analysis as well as the ability to run ad-hoc scripts.\n",
    "\n",
    "By working on an advanced, scalable cyberinfrastructure, you are essentially moving your algorithms and code to the center where data and compute live. CyVerse operates on an Internet2 backbone, meaning your data are transferred at rates which likely exceed your local ISP or campus network."
   ]
  },
  {
   "cell_type": "markdown",
   "metadata": {},
   "source": [
    "VICE lets users interact with their data and do analyses in their favorite programming language in one place in an iterative way. Researchers can now explore their datasets interactively by easily changing parameters of selected analysis applications without having to download data from storage to an active workspace."
   ]
  },
  {
   "cell_type": "markdown",
   "metadata": {},
   "source": []
  },
  {
   "cell_type": "markdown",
   "metadata": {},
   "source": [
    "Currently, VICE apps are categorized broadly into three different spaces:\n",
    "\n",
    "    Integrated Development Environments (Jupyter Lab and RStudio)\n",
    "    Interactive apps (Shiny, WebGL, HTML5)\n",
    "    Virtual Desktop Environment (w/ Apache Guacamole, VNC, XPRA)\n",
    "\n",
    "Each of these serve a different data science purpose.\n",
    "\n",
    "    If you are interested in writing Python, Julia, Spark, C++ based data analysis or visualization, Jupyter is most appropriate.\n",
    "    If you are interested in creating analyses written in R, RStudio would be more appropriate.\n",
    "    If you have a pre-built analysis such as Shiny built in R, Shiny is used.\n",
    "    If you want to work in other Linux-based software, you can launch a virtual deskop (KDE, Mate, XFCE4, Gnome, etc) and work with your tools interactively.\n"
   ]
  },
  {
   "cell_type": "markdown",
   "metadata": {},
   "source": [
    "JupyterLab VICE\n",
    "\n",
    "The JupyterLab VICE apps are based on official Project Jupyter Images integrated into the CyVerse Discovery Environemnt (DE).\n",
    "\n",
    "JupyterLab is an interactive development environment for working with notebooks, code and data.\n",
    "\n",
    "JupyterLab enables you to use text editors, terminals, file viewers, and other custom components side-by-side with notebooks in a tabbed work area. JupyterLab provides a high level of integration between notebooks, documents, and activities:\n",
    "\n",
    "    Drag-and-drop to reorder notebook cells and copy them between notebooks\n",
    "    Run code blocks interactively from text files (.py, .R, .md, .tex, etc.)\n",
    "    Link a code console to a notebook kernel to explore code interactively without cluttering up the notebook with temporary scratch work\n",
    "    Edit popular file formats with live preview, such as Markdown, JSON, CSV, Vega, VegaLite, and more\n"
   ]
  },
  {
   "cell_type": "markdown",
   "metadata": {},
   "source": []
  },
  {
   "cell_type": "markdown",
   "metadata": {},
   "source": []
  },
  {
   "cell_type": "markdown",
   "metadata": {},
   "source": []
  },
  {
   "cell_type": "markdown",
   "metadata": {},
   "source": []
  },
  {
   "cell_type": "markdown",
   "metadata": {},
   "source": []
  },
  {
   "cell_type": "markdown",
   "metadata": {},
   "source": []
  },
  {
   "cell_type": "markdown",
   "metadata": {},
   "source": []
  },
  {
   "cell_type": "markdown",
   "metadata": {},
   "source": []
  },
  {
   "cell_type": "markdown",
   "metadata": {},
   "source": []
  },
  {
   "cell_type": "markdown",
   "metadata": {},
   "source": [
    "Data Store\n",
    "\n",
    "Secure data management accessible from all CyVerse platforms.\n",
    "\n",
    "Whether your data are small or large, structured or unstructured, CyVerse's cloud-based Data Store is designed for open science by providing secure storage and full data lifecycle management capabilities across all CyVerse platforms. With CyVerse's integrated data management and compute systems, you and your collaborators anywhere in the world get fast performance for task big and small. "
   ]
  },
  {
   "cell_type": "markdown",
   "metadata": {},
   "source": []
  },
  {
   "cell_type": "markdown",
   "metadata": {},
   "source": [
    "Key Features\n",
    "\n",
    "    100 GB of storage with your account (more storage available by request)\n",
    "\n",
    "    Parallel data transfers for fast up- and downloads (see table below) and for handling partial or interrupted transfers\n",
    "\n",
    "    Safe, secure replicated storage accessible from all CyVerse platforms with a single authenticated login\n",
    "\n",
    "    Only you set and control permissions to access your data, workflows, analyses results, and data visualizations\n",
    "\n",
    "    Browse and access public data without an account\n"
   ]
  },
  {
   "cell_type": "markdown",
   "metadata": {},
   "source": []
  },
  {
   "cell_type": "markdown",
   "metadata": {},
   "source": []
  },
  {
   "cell_type": "markdown",
   "metadata": {},
   "source": []
  },
  {
   "cell_type": "markdown",
   "metadata": {},
   "source": []
  },
  {
   "cell_type": "markdown",
   "metadata": {},
   "source": []
  },
  {
   "cell_type": "markdown",
   "metadata": {},
   "source": []
  },
  {
   "cell_type": "markdown",
   "metadata": {},
   "source": []
  },
  {
   "cell_type": "markdown",
   "metadata": {},
   "source": []
  },
  {
   "cell_type": "markdown",
   "metadata": {},
   "source": []
  },
  {
   "cell_type": "markdown",
   "metadata": {},
   "source": []
  },
  {
   "cell_type": "markdown",
   "metadata": {},
   "source": []
  }
 ],
 "metadata": {
  "kernelspec": {
   "display_name": "Python 3",
   "language": "python",
   "name": "python3"
  },
  "language_info": {
   "codemirror_mode": {
    "name": "ipython",
    "version": 3
   },
   "file_extension": ".py",
   "mimetype": "text/x-python",
   "name": "python",
   "nbconvert_exporter": "python",
   "pygments_lexer": "ipython3",
   "version": "3.7.6"
  }
 },
 "nbformat": 4,
 "nbformat_minor": 4
}
