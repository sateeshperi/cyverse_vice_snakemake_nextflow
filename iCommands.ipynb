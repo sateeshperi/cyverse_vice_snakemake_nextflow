{
 "cells": [
  {
   "cell_type": "markdown",
   "metadata": {},
   "source": [
    "# iCommands"
   ]
  },
  {
   "cell_type": "markdown",
   "metadata": {},
   "source": [
    "https://cyverse-data-store-guide.readthedocs-hosted.com/en/latest/step2.html"
   ]
  },
  {
   "cell_type": "markdown",
   "metadata": {},
   "source": [
    "iCommands is a collection of tools developed by the iRODS project. iRODS is the technology that supports the CyVerse Data Store. Using iCommands is the most flexible way to interact with the Data Store."
   ]
  },
  {
   "cell_type": "markdown",
   "metadata": {},
   "source": []
  },
  {
   "cell_type": "markdown",
   "metadata": {},
   "source": [
    "iCommands First-time Configuration"
   ]
  },
  {
   "cell_type": "markdown",
   "metadata": {},
   "source": [
    "CyVerse Data Store configuration:\n",
    "host name \tport # \tusername \tzone \tpassword\n",
    "data.cyverse.org \t1247 \tCyVerse UserID \tiplant \tCyVerse Password"
   ]
  },
  {
   "cell_type": "markdown",
   "metadata": {},
   "source": []
  },
  {
   "cell_type": "markdown",
   "metadata": {},
   "source": [
    "Type iinit command to start the configuration process. When prompted, enter the values shown below "
   ]
  },
  {
   "cell_type": "markdown",
   "metadata": {},
   "source": [
    "iinit\n",
    "One or more fields in your iRODS environment file (.irodsEnv) are\n",
    "missing; please enter them.\n",
    "Enter the host name (DNS) of the server to connect to: data.cyverse.org\n",
    "Enter the port number: 1247\n",
    "Enter your irods user name: #your_cyverse_username\n",
    "Enter your irods zone: iplant\n",
    "Those values will be added to your environment file (for use by\n",
    "other i-commands) if the login succeeds.\n",
    "\n",
    "Enter your current iRODS password: #your_cyverse_password"
   ]
  },
  {
   "cell_type": "markdown",
   "metadata": {},
   "source": []
  },
  {
   "cell_type": "markdown",
   "metadata": {},
   "source": [
    "Verify that your iCommands installation works and is properly configured using the ils command to list the contents of your Data Store home directory."
   ]
  },
  {
   "cell_type": "markdown",
   "metadata": {},
   "source": [
    " $ ils\n",
    "  /iplant/home/your_home_directory:\n",
    "file1\n",
    "file2\n",
    "file3\n",
    "C- /iplant/home/your_home_directory/analyses\n",
    "C- /iplant/home/your_home_directory/another_folder"
   ]
  },
  {
   "cell_type": "markdown",
   "metadata": {},
   "source": []
  },
  {
   "cell_type": "markdown",
   "metadata": {},
   "source": [
    "https://docs.irods.org/master/icommands/user/#iput"
   ]
  },
  {
   "cell_type": "markdown",
   "metadata": {},
   "source": [
    "ipwd: Print current directory"
   ]
  },
  {
   "cell_type": "markdown",
   "metadata": {},
   "source": [
    "imkdir: Create a directory\n",
    "icd: Change directory\n",
    "irsync: Sync local directory with iRODS directory"
   ]
  },
  {
   "cell_type": "markdown",
   "metadata": {},
   "source": []
  },
  {
   "cell_type": "markdown",
   "metadata": {},
   "source": []
  },
  {
   "cell_type": "markdown",
   "metadata": {},
   "source": []
  },
  {
   "cell_type": "markdown",
   "metadata": {},
   "source": []
  },
  {
   "cell_type": "markdown",
   "metadata": {},
   "source": []
  },
  {
   "cell_type": "markdown",
   "metadata": {},
   "source": []
  },
  {
   "cell_type": "markdown",
   "metadata": {},
   "source": []
  },
  {
   "cell_type": "markdown",
   "metadata": {},
   "source": []
  },
  {
   "cell_type": "markdown",
   "metadata": {},
   "source": []
  }
 ],
 "metadata": {
  "kernelspec": {
   "display_name": "Python 3",
   "language": "python",
   "name": "python3"
  },
  "language_info": {
   "codemirror_mode": {
    "name": "ipython",
    "version": 3
   },
   "file_extension": ".py",
   "mimetype": "text/x-python",
   "name": "python",
   "nbconvert_exporter": "python",
   "pygments_lexer": "ipython3",
   "version": "3.7.6"
  }
 },
 "nbformat": 4,
 "nbformat_minor": 4
}
